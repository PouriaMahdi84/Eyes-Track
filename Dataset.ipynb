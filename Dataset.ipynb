{
 "cells": [
  {
   "cell_type": "code",
   "execution_count": 1,
   "id": "22976347",
   "metadata": {},
   "outputs": [
    {
     "name": "stdout",
     "output_type": "stream",
     "text": [
      "دیتاست مولتی‌مودال شبیه‌سازی شد و در 'synthetic_multimodal_dataset.npz' ذخیره شد\n",
      "نمونه shapes:\n",
      "X_video: (2000, 8, 112, 112, 3)\n",
      "X_sensor: (2000, 128, 4)\n",
      "X_text: (2000, 64)\n",
      "y: (2000, 3)\n"
     ]
    }
   ],
   "source": [
    "# Jupyter Notebook: شبیه‌سازی دیتاست مولتی‌مودال نزدیک به واقعیت\n",
    "# شامل: ویدیو، کیبورد/ماوس، متن و برچسب‌های تمرکز / حواس‌پرت / خسته\n",
    "\n",
    "import numpy as np\n",
    "import tensorflow as tf\n",
    "\n",
    "# ----------------------- تنظیمات دیتاست -----------------------\n",
    "NUM_SAMPLES = 2000  # تعداد نمونه‌ها\n",
    "VIDEO_FRAMES = 8\n",
    "VIDEO_H = 112\n",
    "VIDEO_W = 112\n",
    "VIDEO_C = 3\n",
    "SENSOR_SEQ = 128\n",
    "SENSOR_FEATS = 4\n",
    "TEXT_SEQ = 64\n",
    "VOCAB_SIZE = 20000\n",
    "NUM_CLASSES = 3\n",
    "\n",
    "# ----------------------- توزیع برچسب‌ها -----------------------\n",
    "# 0: Focus, 1: Distracted, 2: Fatigued\n",
    "labels = np.random.choice(NUM_CLASSES, NUM_SAMPLES, p=[0.5, 0.3, 0.2])  # نزدیک به واقعیت\n",
    "\n",
    "# ----------------------- شبیه‌سازی ویدیو -----------------------\n",
    "# هر ویدیو: frames x H x W x C با نویز تصادفی و الگوهای ساده\n",
    "X_video = np.zeros((NUM_SAMPLES, VIDEO_FRAMES, VIDEO_H, VIDEO_W, VIDEO_C), dtype='float32')\n",
    "for i in range(NUM_SAMPLES):\n",
    "    base = np.random.rand(VIDEO_H, VIDEO_W, VIDEO_C) * 0.5  # زمینه اولیه\n",
    "    for f in range(VIDEO_FRAMES):\n",
    "        motion = np.random.rand(VIDEO_H, VIDEO_W, VIDEO_C) * 0.5\n",
    "        X_video[i, f] = np.clip(base + motion * (labels[i]+1)/3.0, 0, 1)  # تغییر براساس کلاس\n",
    "\n",
    "# ----------------------- شبیه‌سازی کیبورد/ماوس -----------------------\n",
    "# 4 ویژگی: [کلید/کلیک سرعت, وقفه بین کلیدها, سرعت موس, jitter موس]\n",
    "X_sensor = np.zeros((NUM_SAMPLES, SENSOR_SEQ, SENSOR_FEATS), dtype='float32')\n",
    "for i in range(NUM_SAMPLES):\n",
    "    if labels[i] == 0:  # Focus\n",
    "        X_sensor[i] = np.random.normal(loc=[0.8,0.2,0.8,0.1], scale=0.05, size=(SENSOR_SEQ,SENSOR_FEATS))\n",
    "    elif labels[i] == 1:  # Distracted\n",
    "        X_sensor[i] = np.random.normal(loc=[0.5,0.5,0.5,0.3], scale=0.07, size=(SENSOR_SEQ,SENSOR_FEATS))\n",
    "    else:  # Fatigued\n",
    "        X_sensor[i] = np.random.normal(loc=[0.3,0.7,0.3,0.4], scale=0.05, size=(SENSOR_SEQ,SENSOR_FEATS))\n",
    "\n",
    "# ----------------------- شبیه‌سازی متن -----------------------\n",
    "# متن به صورت توکن‌های تصادفی با طول TEXT_SEQ\n",
    "X_text = np.zeros((NUM_SAMPLES, TEXT_SEQ), dtype='int32')\n",
    "for i in range(NUM_SAMPLES):\n",
    "    if labels[i] == 0:  # Focus\n",
    "        X_text[i] = np.random.randint(0, VOCAB_SIZE//2, size=TEXT_SEQ)\n",
    "    elif labels[i] == 1:  # Distracted\n",
    "        X_text[i] = np.random.randint(0, VOCAB_SIZE, size=TEXT_SEQ)\n",
    "    else:  # Fatigued\n",
    "        X_text[i] = np.random.randint(VOCAB_SIZE//2, VOCAB_SIZE, size=TEXT_SEQ)\n",
    "\n",
    "# ----------------------- one-hot برچسب‌ها -----------------------\n",
    "y = tf.keras.utils.to_categorical(labels, NUM_CLASSES)\n",
    "\n",
    "# ----------------------- ذخیره دیتاست -----------------------\n",
    "np.savez('synthetic_multimodal_dataset.npz', X_video=X_video, X_sensor=X_sensor, X_text=X_text, y=y)\n",
    "\n",
    "print(\"دیتاست مولتی‌مودال شبیه‌سازی شد و در 'synthetic_multimodal_dataset.npz' ذخیره شد\")\n",
    "print(\"نمونه shapes:\")\n",
    "print(\"X_video:\", X_video.shape)\n",
    "print(\"X_sensor:\", X_sensor.shape)\n",
    "print(\"X_text:\", X_text.shape)\n",
    "print(\"y:\", y.shape)\n"
   ]
  }
 ],
 "metadata": {
  "kernelspec": {
   "display_name": "Python 3",
   "language": "python",
   "name": "python3"
  },
  "language_info": {
   "codemirror_mode": {
    "name": "ipython",
    "version": 3
   },
   "file_extension": ".py",
   "mimetype": "text/x-python",
   "name": "python",
   "nbconvert_exporter": "python",
   "pygments_lexer": "ipython3",
   "version": "3.8.8"
  }
 },
 "nbformat": 4,
 "nbformat_minor": 5
}
